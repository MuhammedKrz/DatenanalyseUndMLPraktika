{
 "cells": [
  {
   "cell_type": "code",
   "id": "35e08a9b-f750-4a76-aefa-d241b503e538",
   "metadata": {
    "ExecuteTime": {
     "end_time": "2025-10-14T12:03:58.669990Z",
     "start_time": "2025-10-14T12:03:58.664077Z"
    }
   },
   "source": "print(\"Hello\")",
   "outputs": [
    {
     "name": "stdout",
     "output_type": "stream",
     "text": [
      "Hello\n"
     ]
    }
   ],
   "execution_count": 1
  },
  {
   "metadata": {},
   "cell_type": "markdown",
   "source": [
    "# Aufgabe 1 (1 Punkt)\n",
    "Erstellen Sie ein Liniendiagramm (so wie in der unteren Abbildung dargestellt), das die mittleren Monatstemperaturen in Deutschland und in\n",
    "Australien (Nutzen Sie als Datenquelle das Internet) darstellt. Verwenden Sie die Legendenfunktion von matplotlib, um die Namen der\n",
    "Länder als Legendenbeschriftungen hinzuzufügen."
   ],
   "id": "29c0aae172f02f3f"
  },
  {
   "metadata": {},
   "cell_type": "code",
   "outputs": [],
   "execution_count": null,
   "source": "",
   "id": "f74eaae6a5c1d880"
  },
  {
   "metadata": {},
   "cell_type": "markdown",
   "source": [
    "# Aufgabe 2 (2Punkte)\n",
    "a) Fertigen Sie ein Säulendiagramm an, welches die Größe der Kontinente auf der Erde in Mio km2 darstellt, wie in der Abbildung unten\n",
    "angegeben. Setzen Sie auch einen Titel und Bezeichnungen für die x- und y-Achse. Nutzen Sie als Datenquelle z.B.\n",
    "https://de.wikipedia.org/wiki/Kontinent (1P)\n",
    "\n",
    "b) Fertigen Sie auch ein Tortendiagramm an, welches aufzeigt, wieviel Fläche jeweils prozentual mit den Kontinenten belegt ist und wieviel\n",
    "Prozent Restfläche der Erde mit Wasser bedeckt sind. Beschriften Sie die einzelnen Tortenstückchen mit der Prozentzahl! (1P)"
   ],
   "id": "4e7b777dea881b4"
  },
  {
   "metadata": {},
   "cell_type": "code",
   "outputs": [],
   "execution_count": null,
   "source": "",
   "id": "8dda9f5b730a0cd9"
  },
  {
   "metadata": {},
   "cell_type": "markdown",
   "source": [
    "# Aufgabe 3 (2Punkte)\n",
    "a) Definieren Sie ein Series-Objekt mit den Fächern, die Sie aktuell in diesem Semester belegen. Die Namen der Fächer sollen der Index\n",
    "sein und die Werte der Noten sollen Sie zwischen 1-5 zufällig generieren. (1P)\n",
    "b) Definieren Sie ein zweites Series-Objekt mit gleichem Index, aber mit anderen Noten. Ermitteln Sie die Durchschnittsnote in allen\n",
    "Fächern aus den beiden Series-Objekten. (1P)"
   ],
   "id": "700f6b263f1d7e16"
  },
  {
   "metadata": {},
   "cell_type": "code",
   "outputs": [],
   "execution_count": null,
   "source": "",
   "id": "ba8f336067066163"
  }
 ],
 "metadata": {
  "kernelspec": {
   "display_name": "Python [conda env:base] *",
   "language": "python",
   "name": "conda-base-py"
  },
  "language_info": {
   "codemirror_mode": {
    "name": "ipython",
    "version": 3
   },
   "file_extension": ".py",
   "mimetype": "text/x-python",
   "name": "python",
   "nbconvert_exporter": "python",
   "pygments_lexer": "ipython3",
   "version": "3.13.5"
  }
 },
 "nbformat": 4,
 "nbformat_minor": 5
}
