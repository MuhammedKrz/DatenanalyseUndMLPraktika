{
 "cells": [
  {
   "metadata": {},
   "cell_type": "markdown",
   "source": [
    "# Aufgabe 1 (1,5 Punkte - je 0,5)\n",
    "a) Erstellen Sie ein DataFrame, der wie folgt aussieht:\n",
    "\n",
    "![Same Directory Image](images\\1a.png)"
   ],
   "id": "ce7c20beae7f42c3"
  },
  {
   "metadata": {
    "ExecuteTime": {
     "end_time": "2025-10-19T14:59:41.070780Z",
     "start_time": "2025-10-19T14:59:41.065031Z"
    }
   },
   "cell_type": "code",
   "source": [
    "import matplotlib.pyplot as plt\n",
    "import numpy as np\n",
    "import pandas as pd\n",
    "\n",
    "index = pd.MultiIndex.from_product(\n",
    "    [['Wien', 'Berlin', 'Zürich'], ['country', 'area', 'population']]\n",
    ")\n",
    "\n",
    "values = [\n",
    "    'Österreich', 414.6, 1805681,\n",
    "    'Deutschland', 891.85, 3562166,\n",
    "    'Schweiz', 87.88, 378884\n",
    "]\n",
    "\n",
    "s = pd.Series(values, index=index)\n",
    "\n",
    "df = s.to_frame(name='')\n",
    "\n",
    "print(df)\n"
   ],
   "id": "5e7ff3af1ccf5b0e",
   "outputs": [
    {
     "name": "stdout",
     "output_type": "stream",
     "text": [
      "                              \n",
      "Wien   country      Österreich\n",
      "       area              414.6\n",
      "       population      1805681\n",
      "Berlin country     Deutschland\n",
      "       area             891.85\n",
      "       population      3562166\n",
      "Zürich country         Schweiz\n",
      "       area              87.88\n",
      "       population       378884\n"
     ]
    }
   ],
   "execution_count": 75
  },
  {
   "metadata": {},
   "cell_type": "markdown",
   "source": [
    "b) Sortieren Sie nach dem Index und erzeugen Sie folgende Ausgabe:\n",
    "\n",
    "![Same Directory Image](images\\1b.png)"
   ],
   "id": "cc8fab0242793ab6"
  },
  {
   "metadata": {
    "ExecuteTime": {
     "end_time": "2025-10-19T15:00:19.297245Z",
     "start_time": "2025-10-19T15:00:19.293077Z"
    }
   },
   "cell_type": "code",
   "source": [
    "df = df.sort_index()\n",
    "print(df)"
   ],
   "id": "65f52aa8b3307ebc",
   "outputs": [
    {
     "name": "stdout",
     "output_type": "stream",
     "text": [
      "                              \n",
      "Berlin area             891.85\n",
      "       country     Deutschland\n",
      "       population      3562166\n",
      "Wien   area              414.6\n",
      "       country      Österreich\n",
      "       population      1805681\n",
      "Zürich area              87.88\n",
      "       country         Schweiz\n",
      "       population       378884\n"
     ]
    }
   ],
   "execution_count": 79
  },
  {
   "metadata": {},
   "cell_type": "markdown",
   "source": [
    "c) Vertauschen Sie die Indizes, sortieren Sie neu und erzeugen Sie die folgende Ausgabe:\n",
    "\n",
    "![Same Directory Image](images\\1c.png)"
   ],
   "id": "9098bd6709c62c77"
  },
  {
   "metadata": {},
   "cell_type": "code",
   "outputs": [],
   "execution_count": null,
   "source": "",
   "id": "3cd51ab02a9c8c70"
  },
  {
   "metadata": {},
   "cell_type": "markdown",
   "source": [
    "# Aufgabe 2 (3 Punkte, je 0,5)\n",
    "\n",
    "a) Erzeugen Sie einen DataFrame mit einem Index (nicht nachträglich setzten, Index direkt erzeugen), der aus Vornamen besteht, sowie\n",
    "einer Spalte für das gewicht und einer Spalte für die Körpergröße, siehe auch die Abbildung.\n",
    "\n",
    "![Same Directory Image](images\\2a.png)"
   ],
   "id": "a5922334c8ab3ac3"
  },
  {
   "metadata": {},
   "cell_type": "code",
   "outputs": [],
   "execution_count": null,
   "source": "",
   "id": "3fc3003b62686ef0"
  },
  {
   "metadata": {},
   "cell_type": "markdown",
   "source": [
    "b) Extrahieren Sie alle Zeilen, deren BMI im normalen Bereich liegt, d.h. zwischen 18.5. und 25. Es gilt: BMI= Gewicht in kg/(Größe in m)2.\n",
    "Siehe auch die Abbildung:\n",
    "\n",
    "![Same Directory Image](images\\2b.png)"
   ],
   "id": "847b2aefe1d8668b"
  },
  {
   "metadata": {
    "ExecuteTime": {
     "end_time": "2025-10-19T13:52:16.799206Z",
     "start_time": "2025-10-19T13:52:16.797505Z"
    }
   },
   "cell_type": "code",
   "source": "",
   "id": "e12fb3f883ed2815",
   "outputs": [],
   "execution_count": null
  },
  {
   "metadata": {},
   "cell_type": "markdown",
   "source": [
    "c) Geben Sie alle Zeilen aus, in deren Namen ein kleines „e“ vorkommt, siehe auch die Abbildung.\n",
    "\n",
    "![Same Directory Image](images\\2c.png)"
   ],
   "id": "f799c77981a6b11b"
  },
  {
   "metadata": {
    "ExecuteTime": {
     "end_time": "2025-10-19T13:54:26.937926Z",
     "start_time": "2025-10-19T13:54:26.936138Z"
    }
   },
   "cell_type": "code",
   "source": "",
   "id": "733e2ad85c1d6086",
   "outputs": [],
   "execution_count": null
  },
  {
   "metadata": {},
   "cell_type": "markdown",
   "source": [
    "d) Fügen Sie eine Spalte mit dem BMI an.\n",
    "\n",
    "![Same Directory Image](images\\2d.png)"
   ],
   "id": "ceed4919a7ae8c2d"
  },
  {
   "metadata": {},
   "cell_type": "code",
   "outputs": [],
   "execution_count": null,
   "source": "",
   "id": "80c2b19755d66a82"
  },
  {
   "metadata": {},
   "cell_type": "markdown",
   "source": [
    "e) Sortieren Sie nach dem BMI\n",
    "\n",
    "![Same Directory Image](images\\2e.png)"
   ],
   "id": "481bcc48cafd5270"
  },
  {
   "metadata": {},
   "cell_type": "code",
   "outputs": [],
   "execution_count": null,
   "source": "",
   "id": "6282cec026b7a1aa"
  },
  {
   "metadata": {},
   "cell_type": "markdown",
   "source": [
    "f) Geben Sie nun alle Zeilen aus, deren BMI-Werte unter 20 liegen und deren Name ein kleines „e“ enthält:\n",
    "\n",
    "![Same Directory Image](images\\2f.png)"
   ],
   "id": "7063a4b4796d0b25"
  },
  {
   "metadata": {},
   "cell_type": "code",
   "outputs": [],
   "execution_count": null,
   "source": "",
   "id": "65e9aaadb8c6de39"
  }
 ],
 "metadata": {
  "kernelspec": {
   "display_name": "Python 3",
   "language": "python",
   "name": "python3"
  },
  "language_info": {
   "codemirror_mode": {
    "name": "ipython",
    "version": 2
   },
   "file_extension": ".py",
   "mimetype": "text/x-python",
   "name": "python",
   "nbconvert_exporter": "python",
   "pygments_lexer": "ipython2",
   "version": "2.7.6"
  }
 },
 "nbformat": 4,
 "nbformat_minor": 5
}
