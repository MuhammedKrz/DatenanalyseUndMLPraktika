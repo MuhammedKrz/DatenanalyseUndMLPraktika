{
 "cells": [
  {
   "metadata": {},
   "cell_type": "markdown",
   "source": [
    "# Aufgabe 1 (1,5 Punkte - je 0,5)\n",
    "a) Erstellen Sie ein DataFrame, der wie folgt aussieht:\n",
    "\n",
    "![Same Directory Image](images/1a.png)"
   ],
   "id": "ce7c20beae7f42c3"
  },
  {
   "metadata": {
    "ExecuteTime": {
     "end_time": "2025-10-22T18:02:38.924868Z",
     "start_time": "2025-10-22T18:02:38.919052Z"
    }
   },
   "cell_type": "code",
   "source": [
    "import pandas as pd\n",
    "\n",
    "index = pd.MultiIndex.from_product(\n",
    "    [[\"Wien\", \"Berlin\", \"Zürich\"], [\"country\", \"area\", \"population\"]]\n",
    ")\n",
    "\n",
    "values = [\n",
    "    \"Österreich\", 414.6, 1805681,\n",
    "    \"Deutschland\", 891.85, 3562166,\n",
    "    \"Schweiz\", 87.88, 378884\n",
    "]\n",
    "\n",
    "s = pd.Series(values, index=index)\n",
    "\n",
    "df = s.to_frame(name=\"\")\n",
    "\n",
    "print(df)"
   ],
   "id": "5e7ff3af1ccf5b0e",
   "outputs": [
    {
     "name": "stdout",
     "output_type": "stream",
     "text": [
      "                              \n",
      "Wien   country      Österreich\n",
      "       area              414.6\n",
      "       population      1805681\n",
      "Berlin country     Deutschland\n",
      "       area             891.85\n",
      "       population      3562166\n",
      "Zürich country         Schweiz\n",
      "       area              87.88\n",
      "       population       378884\n"
     ]
    }
   ],
   "execution_count": 163
  },
  {
   "metadata": {
    "ExecuteTime": {
     "end_time": "2025-10-22T18:02:38.943675Z",
     "start_time": "2025-10-22T18:02:38.939295Z"
    }
   },
   "cell_type": "code",
   "source": [
    "df = pd.DataFrame(\n",
    "    {\n",
    "        \"country\": [\"Östereich\", \"Deutschland\", \"Schweiz\"],\n",
    "        \"area\": [414.6,  891.85, 87.88],\n",
    "        \"population\": [1805681, 3562166, 378884],\n",
    "    },\n",
    "    index=[\"Wien\", \"Berlin\", \"Zürich\"]\n",
    ")\n",
    "print(df.stack())"
   ],
   "id": "918692175842121d",
   "outputs": [
    {
     "name": "stdout",
     "output_type": "stream",
     "text": [
      "Wien    country         Östereich\n",
      "        area                414.6\n",
      "        population        1805681\n",
      "Berlin  country       Deutschland\n",
      "        area               891.85\n",
      "        population        3562166\n",
      "Zürich  country           Schweiz\n",
      "        area                87.88\n",
      "        population         378884\n",
      "dtype: object\n"
     ]
    }
   ],
   "execution_count": 164
  },
  {
   "metadata": {},
   "cell_type": "markdown",
   "source": [
    "b) Sortieren Sie nach dem Index und erzeugen Sie folgende Ausgabe:\n",
    "\n",
    "![Same Directory Image](images/1b.png)"
   ],
   "id": "cc8fab0242793ab6"
  },
  {
   "metadata": {
    "ExecuteTime": {
     "end_time": "2025-10-22T18:02:38.961456Z",
     "start_time": "2025-10-22T18:02:38.954382Z"
    }
   },
   "cell_type": "code",
   "source": [
    "df = df.sort_index()\n",
    "\n",
    "# only necessary for the second solution\n",
    "df = df.reindex(sorted(df.columns), axis=1)\n",
    "\n",
    "print(df.stack())\n",
    "\n",
    "df.head(df.shape[0])"
   ],
   "id": "65f52aa8b3307ebc",
   "outputs": [
    {
     "name": "stdout",
     "output_type": "stream",
     "text": [
      "Berlin  area               891.85\n",
      "        country       Deutschland\n",
      "        population        3562166\n",
      "Wien    area                414.6\n",
      "        country         Östereich\n",
      "        population        1805681\n",
      "Zürich  area                87.88\n",
      "        country           Schweiz\n",
      "        population         378884\n",
      "dtype: object\n"
     ]
    },
    {
     "data": {
      "text/plain": [
       "          area      country  population\n",
       "Berlin  891.85  Deutschland     3562166\n",
       "Wien    414.60    Östereich     1805681\n",
       "Zürich   87.88      Schweiz      378884"
      ],
      "text/html": [
       "<div>\n",
       "<style scoped>\n",
       "    .dataframe tbody tr th:only-of-type {\n",
       "        vertical-align: middle;\n",
       "    }\n",
       "\n",
       "    .dataframe tbody tr th {\n",
       "        vertical-align: top;\n",
       "    }\n",
       "\n",
       "    .dataframe thead th {\n",
       "        text-align: right;\n",
       "    }\n",
       "</style>\n",
       "<table border=\"1\" class=\"dataframe\">\n",
       "  <thead>\n",
       "    <tr style=\"text-align: right;\">\n",
       "      <th></th>\n",
       "      <th>area</th>\n",
       "      <th>country</th>\n",
       "      <th>population</th>\n",
       "    </tr>\n",
       "  </thead>\n",
       "  <tbody>\n",
       "    <tr>\n",
       "      <th>Berlin</th>\n",
       "      <td>891.85</td>\n",
       "      <td>Deutschland</td>\n",
       "      <td>3562166</td>\n",
       "    </tr>\n",
       "    <tr>\n",
       "      <th>Wien</th>\n",
       "      <td>414.60</td>\n",
       "      <td>Östereich</td>\n",
       "      <td>1805681</td>\n",
       "    </tr>\n",
       "    <tr>\n",
       "      <th>Zürich</th>\n",
       "      <td>87.88</td>\n",
       "      <td>Schweiz</td>\n",
       "      <td>378884</td>\n",
       "    </tr>\n",
       "  </tbody>\n",
       "</table>\n",
       "</div>"
      ]
     },
     "execution_count": 165,
     "metadata": {},
     "output_type": "execute_result"
    }
   ],
   "execution_count": 165
  },
  {
   "metadata": {},
   "cell_type": "markdown",
   "source": [
    "c) Vertauschen Sie die Indizes, sortieren Sie neu und erzeugen Sie die folgende Ausgabe:\n",
    "\n",
    "![Same Directory Image](images/1c.png)"
   ],
   "id": "9098bd6709c62c77"
  },
  {
   "metadata": {
    "ExecuteTime": {
     "end_time": "2025-10-22T18:02:39.003714Z",
     "start_time": "2025-10-22T18:02:38.997462Z"
    }
   },
   "cell_type": "code",
   "source": [
    "# solution for the first option\n",
    "index = pd.MultiIndex.from_product(\n",
    "    [[\"country\", \"area\", \"population\"],[\"Wien\", \"Berlin\", \"Zürich\"]]\n",
    ")\n",
    "\n",
    "values = [\n",
    "    \"Österreich\", \"Deutschland\", \"Schweiz\",\n",
    "    414.6, 891.85, 87.88,\n",
    "    1805681, 3562166, 378884\n",
    "]\n",
    "\n",
    "s = pd.Series(values, index=index)\n",
    "\n",
    "df = s.to_frame(name=\"\")\n",
    "\n",
    "df = df.sort_index()\n",
    "\n",
    "print(df)"
   ],
   "id": "3cd51ab02a9c8c70",
   "outputs": [
    {
     "name": "stdout",
     "output_type": "stream",
     "text": [
      "                              \n",
      "area       Berlin       891.85\n",
      "           Wien          414.6\n",
      "           Zürich        87.88\n",
      "country    Berlin  Deutschland\n",
      "           Wien     Österreich\n",
      "           Zürich      Schweiz\n",
      "population Berlin      3562166\n",
      "           Wien        1805681\n",
      "           Zürich       378884\n"
     ]
    }
   ],
   "execution_count": 166
  },
  {
   "metadata": {
    "ExecuteTime": {
     "end_time": "2025-10-22T18:02:39.080714Z",
     "start_time": "2025-10-22T18:02:39.074018Z"
    }
   },
   "cell_type": "code",
   "source": [
    "# solution for the second option\n",
    "df = df.transpose()\n",
    "print(df.stack())"
   ],
   "id": "ebd5656918d97c84",
   "outputs": [
    {
     "name": "stdout",
     "output_type": "stream",
     "text": [
      "           area      country population\n",
      " Berlin  891.85  Deutschland    3562166\n",
      " Wien     414.6   Österreich    1805681\n",
      " Zürich   87.88      Schweiz     378884\n"
     ]
    },
    {
     "name": "stderr",
     "output_type": "stream",
     "text": [
      "C:\\Users\\aaron\\AppData\\Local\\Temp\\ipykernel_3668\\3090450191.py:3: FutureWarning: The previous implementation of stack is deprecated and will be removed in a future version of pandas. See the What's New notes for pandas 2.1.0 for details. Specify future_stack=True to adopt the new implementation and silence this warning.\n",
      "  print(df.stack())\n"
     ]
    }
   ],
   "execution_count": 167
  },
  {
   "metadata": {},
   "cell_type": "markdown",
   "source": [
    "# Aufgabe 2 (3 Punkte, je 0,5)\n",
    "\n",
    "a) Erzeugen Sie einen DataFrame mit einem Index (nicht nachträglich setzten, Index direkt erzeugen), der aus Vornamen besteht, sowie\n",
    "einer Spalte für das gewicht und einer Spalte für die Körpergröße, siehe auch die Abbildung.\n",
    "\n",
    "![Same Directory Image](images/2a.png)"
   ],
   "id": "a5922334c8ab3ac3"
  },
  {
   "metadata": {
    "ExecuteTime": {
     "end_time": "2025-10-22T18:02:39.106246Z",
     "start_time": "2025-10-22T18:02:39.102073Z"
    }
   },
   "cell_type": "code",
   "source": [
    "df = pd.DataFrame(\n",
    "    {\n",
    "        \"Gewicht\": [65, 58, 58, 45, 43, 99, 68, 60],\n",
    "        \"Größe\": [179, 165, 172, 154, 150, 189, 176, 175]\n",
    "    },\n",
    "    index=[\"Henry\", \"Sarah\", \"Elke\", \"Lulu\", \"Vera\", \"Toni\", \"Maria\", \"Chris\"],\n",
    ")\n",
    "print(df)"
   ],
   "id": "3fc3003b62686ef0",
   "outputs": [
    {
     "name": "stdout",
     "output_type": "stream",
     "text": [
      "       Gewicht  Größe\n",
      "Henry       65    179\n",
      "Sarah       58    165\n",
      "Elke        58    172\n",
      "Lulu        45    154\n",
      "Vera        43    150\n",
      "Toni        99    189\n",
      "Maria       68    176\n",
      "Chris       60    175\n"
     ]
    }
   ],
   "execution_count": 168
  },
  {
   "metadata": {},
   "cell_type": "markdown",
   "source": [
    "b) Extrahieren Sie alle Zeilen, deren BMI im normalen Bereich liegt, d.h. zwischen 18.5. und 25. Es gilt: BMI= Gewicht in kg/(Größe in m)2.\n",
    "Siehe auch die Abbildung:\n",
    "\n",
    "![Same Directory Image](images/2b.png)"
   ],
   "id": "847b2aefe1d8668b"
  },
  {
   "metadata": {
    "ExecuteTime": {
     "end_time": "2025-10-22T18:02:39.131642Z",
     "start_time": "2025-10-22T18:02:39.126568Z"
    }
   },
   "cell_type": "code",
   "source": [
    "def calc_bmi() -> float:\n",
    "    return df[\"Gewicht\"] / (df[\"Größe\"] / 100)**2\n",
    "\n",
    "normalBMI = df[(calc_bmi() > 18.5) &\n",
    "               (calc_bmi() < 25.0)]\n",
    "\n",
    "# alternative using loc\n",
    "# print(df.loc[(calc_bmi() > 18.5) &\n",
    "#              (calc_bmi() < 25.0)])\n",
    "\n",
    "print(normalBMI)"
   ],
   "id": "e12fb3f883ed2815",
   "outputs": [
    {
     "name": "stdout",
     "output_type": "stream",
     "text": [
      "       Gewicht  Größe\n",
      "Henry       65    179\n",
      "Sarah       58    165\n",
      "Elke        58    172\n",
      "Lulu        45    154\n",
      "Vera        43    150\n",
      "Maria       68    176\n",
      "Chris       60    175\n"
     ]
    }
   ],
   "execution_count": 169
  },
  {
   "metadata": {},
   "cell_type": "markdown",
   "source": [
    "c) Geben Sie alle Zeilen aus, in deren Namen ein kleines „e“ vorkommt, siehe auch die Abbildung.\n",
    "\n",
    "![Same Directory Image](images/2c.png)"
   ],
   "id": "f799c77981a6b11b"
  },
  {
   "metadata": {
    "ExecuteTime": {
     "end_time": "2025-10-22T18:02:39.148034Z",
     "start_time": "2025-10-22T18:02:39.143357Z"
    }
   },
   "cell_type": "code",
   "source": [
    "# namesWithE = df[df.index.get_level_values(0).str.contains(\"e\")]\n",
    "namesWithE = df[df.index.str.contains(\"e\")]\n",
    "print(namesWithE)"
   ],
   "id": "733e2ad85c1d6086",
   "outputs": [
    {
     "name": "stdout",
     "output_type": "stream",
     "text": [
      "       Gewicht  Größe\n",
      "Henry       65    179\n",
      "Elke        58    172\n",
      "Vera        43    150\n"
     ]
    }
   ],
   "execution_count": 170
  },
  {
   "metadata": {},
   "cell_type": "markdown",
   "source": [
    "d) Fügen Sie eine Spalte mit dem BMI an.\n",
    "\n",
    "![Same Directory Image](images/2d.png)"
   ],
   "id": "ceed4919a7ae8c2d"
  },
  {
   "metadata": {
    "ExecuteTime": {
     "end_time": "2025-10-22T18:02:39.165249Z",
     "start_time": "2025-10-22T18:02:39.160297Z"
    }
   },
   "cell_type": "code",
   "source": [
    "# df['BMI'] = calc_bmi()\n",
    "df.loc[:, \"BMI\"] = calc_bmi()\n",
    "print(df)"
   ],
   "id": "80c2b19755d66a82",
   "outputs": [
    {
     "name": "stdout",
     "output_type": "stream",
     "text": [
      "       Gewicht  Größe        BMI\n",
      "Henry       65    179  20.286508\n",
      "Sarah       58    165  21.303949\n",
      "Elke        58    172  19.605192\n",
      "Lulu        45    154  18.974532\n",
      "Vera        43    150  19.111111\n",
      "Toni        99    189  27.714790\n",
      "Maria       68    176  21.952479\n",
      "Chris       60    175  19.591837\n"
     ]
    }
   ],
   "execution_count": 171
  },
  {
   "metadata": {},
   "cell_type": "markdown",
   "source": [
    "e) Sortieren Sie nach dem BMI\n",
    "\n",
    "![Same Directory Image](images/2e.png)"
   ],
   "id": "481bcc48cafd5270"
  },
  {
   "metadata": {
    "ExecuteTime": {
     "end_time": "2025-10-22T18:02:39.182827Z",
     "start_time": "2025-10-22T18:02:39.177983Z"
    }
   },
   "cell_type": "code",
   "source": [
    "df = df.sort_values(\"BMI\", ascending=False)\n",
    "print(df)"
   ],
   "id": "6282cec026b7a1aa",
   "outputs": [
    {
     "name": "stdout",
     "output_type": "stream",
     "text": [
      "       Gewicht  Größe        BMI\n",
      "Toni        99    189  27.714790\n",
      "Maria       68    176  21.952479\n",
      "Sarah       58    165  21.303949\n",
      "Henry       65    179  20.286508\n",
      "Elke        58    172  19.605192\n",
      "Chris       60    175  19.591837\n",
      "Vera        43    150  19.111111\n",
      "Lulu        45    154  18.974532\n"
     ]
    }
   ],
   "execution_count": 172
  },
  {
   "metadata": {},
   "cell_type": "markdown",
   "source": [
    "f) Geben Sie nun alle Zeilen aus, deren BMI-Werte unter 20 liegen und deren Name ein kleines „e“ enthält:\n",
    "\n",
    "![Same Directory Image](images/2f.png)"
   ],
   "id": "7063a4b4796d0b25"
  },
  {
   "metadata": {
    "ExecuteTime": {
     "end_time": "2025-10-22T18:02:39.197314Z",
     "start_time": "2025-10-22T18:02:39.192522Z"
    }
   },
   "cell_type": "code",
   "source": [
    "contains_e_BMI_under_20 = df[df.index.str.contains(\"e\")]\n",
    "contains_e_BMI_under_20 = contains_e_BMI_under_20[contains_e_BMI_under_20[\"BMI\"] < 20]\n",
    "\n",
    "print(contains_e_BMI_under_20)"
   ],
   "id": "65e9aaadb8c6de39",
   "outputs": [
    {
     "name": "stdout",
     "output_type": "stream",
     "text": [
      "      Gewicht  Größe        BMI\n",
      "Elke       58    172  19.605192\n",
      "Vera       43    150  19.111111\n"
     ]
    }
   ],
   "execution_count": 173
  },
  {
   "metadata": {
    "ExecuteTime": {
     "end_time": "2025-10-22T18:02:39.218294Z",
     "start_time": "2025-10-22T18:02:39.213976Z"
    }
   },
   "cell_type": "code",
   "source": [
    "contains_e_BMI_under_20 = df[(df.BMI < 20) & (df.index.str.contains(\"e\"))]\n",
    "\n",
    "print(contains_e_BMI_under_20)"
   ],
   "id": "7b0b4144024d8d4f",
   "outputs": [
    {
     "name": "stdout",
     "output_type": "stream",
     "text": [
      "      Gewicht  Größe        BMI\n",
      "Elke       58    172  19.605192\n",
      "Vera       43    150  19.111111\n"
     ]
    }
   ],
   "execution_count": 174
  }
 ],
 "metadata": {
  "kernelspec": {
   "display_name": "Python 3",
   "language": "python",
   "name": "python3"
  },
  "language_info": {
   "codemirror_mode": {
    "name": "ipython",
    "version": 2
   },
   "file_extension": ".py",
   "mimetype": "text/x-python",
   "name": "python",
   "nbconvert_exporter": "python",
   "pygments_lexer": "ipython2",
   "version": "2.7.6"
  }
 },
 "nbformat": 4,
 "nbformat_minor": 5
}
