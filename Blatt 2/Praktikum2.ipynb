{
 "cells": [
  {
   "metadata": {},
   "cell_type": "markdown",
   "source": [
    "# Aufgabe 1 (1,5 Punkte - je 0,5)\n",
    "a) Erstellen Sie ein DataFrame, der wie folgt aussieht:\n",
    "\n",
    "![Same Directory Image](images/1a.png)"
   ],
   "id": "ce7c20beae7f42c3"
  },
  {
   "metadata": {
    "ExecuteTime": {
     "end_time": "2025-10-22T21:25:06.440006Z",
     "start_time": "2025-10-22T21:25:06.433940Z"
    }
   },
   "cell_type": "code",
   "source": [
    "import pandas as pd\n",
    "\n",
    "# first solution (not intended)\n",
    "index = pd.MultiIndex.from_product(\n",
    "    [[\"Wien\", \"Berlin\", \"Zürich\"], [\"country\", \"area\", \"population\"]]\n",
    ")\n",
    "\n",
    "values = [\n",
    "    \"Österreich\", 414.6, 1805681,\n",
    "    \"Deutschland\", 891.85, 3562166,\n",
    "    \"Schweiz\", 87.88, 378884\n",
    "]\n",
    "\n",
    "s = pd.Series(values, index=index)\n",
    "\n",
    "df = s.to_frame(name=\"\")\n",
    "\n",
    "print(df)"
   ],
   "id": "b274838252e4fb97",
   "outputs": [
    {
     "name": "stdout",
     "output_type": "stream",
     "text": [
      "                              \n",
      "Wien   country      Österreich\n",
      "       area              414.6\n",
      "       population      1805681\n",
      "Berlin country     Deutschland\n",
      "       area             891.85\n",
      "       population      3562166\n",
      "Zürich country         Schweiz\n",
      "       area              87.88\n",
      "       population       378884\n"
     ]
    }
   ],
   "execution_count": 123
  },
  {
   "metadata": {
    "ExecuteTime": {
     "end_time": "2025-10-22T21:25:06.459275Z",
     "start_time": "2025-10-22T21:25:06.454493Z"
    }
   },
   "cell_type": "code",
   "source": [
    "# second solution (intended)\n",
    "df = pd.DataFrame(\n",
    "    {\n",
    "        \"country\": [\"Österreich\", \"Deutschland\", \"Schweiz\"],\n",
    "        \"area\": [414.6,  891.85, 87.88],\n",
    "        \"population\": [1805681, 3562166, 378884],\n",
    "    },\n",
    "    index=[\"Wien\", \"Berlin\", \"Zürich\"]\n",
    ")\n",
    "print(df.stack())"
   ],
   "id": "76929c07504d24e5",
   "outputs": [
    {
     "name": "stdout",
     "output_type": "stream",
     "text": [
      "Wien    country        Österreich\n",
      "        area                414.6\n",
      "        population        1805681\n",
      "Berlin  country       Deutschland\n",
      "        area               891.85\n",
      "        population        3562166\n",
      "Zürich  country           Schweiz\n",
      "        area                87.88\n",
      "        population         378884\n",
      "dtype: object\n"
     ]
    }
   ],
   "execution_count": 124
  },
  {
   "metadata": {},
   "cell_type": "markdown",
   "source": [
    "b) Sortieren Sie nach dem Index und erzeugen Sie folgende Ausgabe:\n",
    "\n",
    "![Same Directory Image](images/1b.png)"
   ],
   "id": "7dc5feb644b9cc8"
  },
  {
   "metadata": {
    "ExecuteTime": {
     "end_time": "2025-10-22T21:25:06.481692Z",
     "start_time": "2025-10-22T21:25:06.471491Z"
    }
   },
   "cell_type": "code",
   "source": [
    "# enough if df is Stacked\n",
    "df = df.sort_index()\n",
    "\n",
    "# only necessary for the second solution\n",
    "df = df.reindex(sorted(df.columns), axis=1) # axis=1 <-- col, axis=0 <-- row\n",
    "\n",
    "print(df.stack())\n",
    "\n",
    "df.head(df.shape[0])"
   ],
   "id": "1a561f4ade2c06e6",
   "outputs": [
    {
     "name": "stdout",
     "output_type": "stream",
     "text": [
      "Berlin  area               891.85\n",
      "        country       Deutschland\n",
      "        population        3562166\n",
      "Wien    area                414.6\n",
      "        country        Österreich\n",
      "        population        1805681\n",
      "Zürich  area                87.88\n",
      "        country           Schweiz\n",
      "        population         378884\n",
      "dtype: object\n"
     ]
    },
    {
     "data": {
      "text/plain": [
       "          area      country  population\n",
       "Berlin  891.85  Deutschland     3562166\n",
       "Wien    414.60   Österreich     1805681\n",
       "Zürich   87.88      Schweiz      378884"
      ],
      "text/html": [
       "<div>\n",
       "<style scoped>\n",
       "    .dataframe tbody tr th:only-of-type {\n",
       "        vertical-align: middle;\n",
       "    }\n",
       "\n",
       "    .dataframe tbody tr th {\n",
       "        vertical-align: top;\n",
       "    }\n",
       "\n",
       "    .dataframe thead th {\n",
       "        text-align: right;\n",
       "    }\n",
       "</style>\n",
       "<table border=\"1\" class=\"dataframe\">\n",
       "  <thead>\n",
       "    <tr style=\"text-align: right;\">\n",
       "      <th></th>\n",
       "      <th>area</th>\n",
       "      <th>country</th>\n",
       "      <th>population</th>\n",
       "    </tr>\n",
       "  </thead>\n",
       "  <tbody>\n",
       "    <tr>\n",
       "      <th>Berlin</th>\n",
       "      <td>891.85</td>\n",
       "      <td>Deutschland</td>\n",
       "      <td>3562166</td>\n",
       "    </tr>\n",
       "    <tr>\n",
       "      <th>Wien</th>\n",
       "      <td>414.60</td>\n",
       "      <td>Österreich</td>\n",
       "      <td>1805681</td>\n",
       "    </tr>\n",
       "    <tr>\n",
       "      <th>Zürich</th>\n",
       "      <td>87.88</td>\n",
       "      <td>Schweiz</td>\n",
       "      <td>378884</td>\n",
       "    </tr>\n",
       "  </tbody>\n",
       "</table>\n",
       "</div>"
      ]
     },
     "execution_count": 125,
     "metadata": {},
     "output_type": "execute_result"
    }
   ],
   "execution_count": 125
  },
  {
   "metadata": {},
   "cell_type": "markdown",
   "source": [
    "c) Vertauschen Sie die Indizes, sortieren Sie neu und erzeugen Sie die folgende Ausgabe:\n",
    "\n",
    "![Same Directory Image](images/1c.png)"
   ],
   "id": "8eabfb84383fa9e"
  },
  {
   "metadata": {
    "ExecuteTime": {
     "end_time": "2025-10-22T21:25:06.525404Z",
     "start_time": "2025-10-22T21:25:06.519993Z"
    }
   },
   "cell_type": "code",
   "source": [
    "# For Stacked DataFrames\n",
    "# Swap first column and second (not intended)\n",
    "# Change first level 0 with last level -1\n",
    "stackDF = df.stack()\n",
    "# MultiIndex transpose 0: outermost index, -1: innermost index\n",
    "stackDF = stackDF.swaplevel(0, -1)\n",
    "stackDF.sort_index(inplace=True)\n",
    "print(stackDF)"
   ],
   "id": "ea3cdc6d51891503",
   "outputs": [
    {
     "name": "stdout",
     "output_type": "stream",
     "text": [
      "area        Berlin         891.85\n",
      "            Wien            414.6\n",
      "            Zürich          87.88\n",
      "country     Berlin    Deutschland\n",
      "            Wien       Österreich\n",
      "            Zürich        Schweiz\n",
      "population  Berlin        3562166\n",
      "            Wien          1805681\n",
      "            Zürich         378884\n",
      "dtype: object\n"
     ]
    }
   ],
   "execution_count": 126
  },
  {
   "metadata": {
    "ExecuteTime": {
     "end_time": "2025-10-22T21:25:06.609735Z",
     "start_time": "2025-10-22T21:25:06.605060Z"
    }
   },
   "cell_type": "code",
   "source": [
    "# For non stacked DataFrames\n",
    "# solution for the second option (intended)\n",
    "df = df.transpose()\n",
    "print(df.stack())"
   ],
   "id": "e9ddc0e888bd27ee",
   "outputs": [
    {
     "name": "stdout",
     "output_type": "stream",
     "text": [
      "area        Berlin         891.85\n",
      "            Wien            414.6\n",
      "            Zürich          87.88\n",
      "country     Berlin    Deutschland\n",
      "            Wien       Österreich\n",
      "            Zürich        Schweiz\n",
      "population  Berlin        3562166\n",
      "            Wien          1805681\n",
      "            Zürich         378884\n",
      "dtype: object\n"
     ]
    }
   ],
   "execution_count": 127
  },
  {
   "metadata": {},
   "cell_type": "markdown",
   "source": [
    "# Aufgabe 2 (3 Punkte, je 0,5)\n",
    "\n",
    "a) Erzeugen Sie einen DataFrame mit einem Index (nicht nachträglich setzten, Index direkt erzeugen), der aus Vornamen besteht, sowie\n",
    "einer Spalte für das gewicht und einer Spalte für die Körpergröße, siehe auch die Abbildung.\n",
    "\n",
    "![Same Directory Image](images/2a.png)"
   ],
   "id": "69625c1bf7f51444"
  },
  {
   "metadata": {
    "ExecuteTime": {
     "end_time": "2025-10-22T21:25:06.653242Z",
     "start_time": "2025-10-22T21:25:06.648321Z"
    }
   },
   "cell_type": "code",
   "source": [
    "df = pd.DataFrame(\n",
    "    {\n",
    "        \"Gewicht\": [65, 58, 58, 45, 43, 99, 68, 60],\n",
    "        \"Größe\": [179, 165, 172, 154, 150, 189, 176, 175]\n",
    "    },\n",
    "    index=[\"Henry\", \"Sarah\", \"Elke\", \"Lulu\", \"Vera\", \"Toni\", \"Maria\", \"Chris\"],\n",
    ")\n",
    "\n",
    "print(df)"
   ],
   "id": "43828d253ecddf2e",
   "outputs": [
    {
     "name": "stdout",
     "output_type": "stream",
     "text": [
      "       Gewicht  Größe\n",
      "Henry       65    179\n",
      "Sarah       58    165\n",
      "Elke        58    172\n",
      "Lulu        45    154\n",
      "Vera        43    150\n",
      "Toni        99    189\n",
      "Maria       68    176\n",
      "Chris       60    175\n"
     ]
    }
   ],
   "execution_count": 128
  },
  {
   "metadata": {},
   "cell_type": "markdown",
   "source": [
    "b) Extrahieren Sie alle Zeilen, deren BMI im normalen Bereich liegt, d.h. zwischen 18.5. und 25. Es gilt: BMI= Gewicht in kg/(Größe in m)2.\n",
    "Siehe auch die Abbildung:\n",
    "\n",
    "![Same Directory Image](images/2b.png)"
   ],
   "id": "1fb65d6ebdff999a"
  },
  {
   "metadata": {
    "ExecuteTime": {
     "end_time": "2025-10-22T21:25:06.683293Z",
     "start_time": "2025-10-22T21:25:06.673581Z"
    }
   },
   "cell_type": "code",
   "source": [
    "print(df.query(\"(Gewicht / (Größe*0.01)**2) > 18.5 & (Gewicht / (Größe*0.01)**2) < 25\"))\n",
    "\n",
    "def calc_bmi():\n",
    "    return df[\"Gewicht\"] / (df[\"Größe\"] / 100)**2\n",
    "\n",
    "normalBMI = df[(calc_bmi() > 18.5) &\n",
    "               (calc_bmi() < 25.0)]\n",
    "\n",
    "# alternative using loc\n",
    "# print(df.loc[(calc_bmi() > 18.5) &\n",
    "#              (calc_bmi() < 25.0)])\n",
    "\n",
    "# print(normalBMI)"
   ],
   "id": "5c0e9ecc6f4378fc",
   "outputs": [
    {
     "name": "stdout",
     "output_type": "stream",
     "text": [
      "       Gewicht  Größe\n",
      "Henry       65    179\n",
      "Sarah       58    165\n",
      "Elke        58    172\n",
      "Lulu        45    154\n",
      "Vera        43    150\n",
      "Maria       68    176\n",
      "Chris       60    175\n"
     ]
    }
   ],
   "execution_count": 129
  },
  {
   "metadata": {},
   "cell_type": "markdown",
   "source": [
    "c) Geben Sie alle Zeilen aus, in deren Namen ein kleines „e“ vorkommt, siehe auch die Abbildung.\n",
    "\n",
    "![Same Directory Image](images/2c.png)"
   ],
   "id": "e50c11327e21c769"
  },
  {
   "metadata": {
    "ExecuteTime": {
     "end_time": "2025-10-22T21:25:06.701831Z",
     "start_time": "2025-10-22T21:25:06.696105Z"
    }
   },
   "cell_type": "code",
   "source": [
    "# namesWithE = df[df.index.get_level_values(0).str.contains(\"e\")]\n",
    "namesWithE = df[df.index.str.contains(\"e\")]\n",
    "print(namesWithE)"
   ],
   "id": "56424ecf9093637c",
   "outputs": [
    {
     "name": "stdout",
     "output_type": "stream",
     "text": [
      "       Gewicht  Größe\n",
      "Henry       65    179\n",
      "Elke        58    172\n",
      "Vera        43    150\n"
     ]
    }
   ],
   "execution_count": 130
  },
  {
   "metadata": {},
   "cell_type": "markdown",
   "source": [
    "d) Fügen Sie eine Spalte mit dem BMI an.\n",
    "\n",
    "![Same Directory Image](images/2d.png)"
   ],
   "id": "22b91d4b1c10fb0"
  },
  {
   "metadata": {
    "ExecuteTime": {
     "end_time": "2025-10-22T21:25:06.724082Z",
     "start_time": "2025-10-22T21:25:06.719449Z"
    }
   },
   "cell_type": "code",
   "source": [
    "# not intended\n",
    "# df['BMI'] = calc_bmi()\n",
    "# df.BMI = calc_bmi()\n",
    "\n",
    "# intended\n",
    "df.loc[:, \"BMI\"] = calc_bmi()\n",
    "print(df)"
   ],
   "id": "bc24e2f4083c338c",
   "outputs": [
    {
     "name": "stdout",
     "output_type": "stream",
     "text": [
      "       Gewicht  Größe        BMI\n",
      "Henry       65    179  20.286508\n",
      "Sarah       58    165  21.303949\n",
      "Elke        58    172  19.605192\n",
      "Lulu        45    154  18.974532\n",
      "Vera        43    150  19.111111\n",
      "Toni        99    189  27.714790\n",
      "Maria       68    176  21.952479\n",
      "Chris       60    175  19.591837\n"
     ]
    }
   ],
   "execution_count": 131
  },
  {
   "metadata": {},
   "cell_type": "markdown",
   "source": [
    "e) Sortieren Sie nach dem BMI\n",
    "\n",
    "![Same Directory Image](images/2e.png)"
   ],
   "id": "4fa0cf61fe90a4b6"
  },
  {
   "metadata": {
    "ExecuteTime": {
     "end_time": "2025-10-22T21:25:06.742380Z",
     "start_time": "2025-10-22T21:25:06.737744Z"
    }
   },
   "cell_type": "code",
   "source": [
    "df = df.sort_values(\"BMI\", ascending=False)\n",
    "print(df)"
   ],
   "id": "c059d4da0fc22668",
   "outputs": [
    {
     "name": "stdout",
     "output_type": "stream",
     "text": [
      "       Gewicht  Größe        BMI\n",
      "Toni        99    189  27.714790\n",
      "Maria       68    176  21.952479\n",
      "Sarah       58    165  21.303949\n",
      "Henry       65    179  20.286508\n",
      "Elke        58    172  19.605192\n",
      "Chris       60    175  19.591837\n",
      "Vera        43    150  19.111111\n",
      "Lulu        45    154  18.974532\n"
     ]
    }
   ],
   "execution_count": 132
  },
  {
   "metadata": {},
   "cell_type": "markdown",
   "source": [
    "f) Geben Sie nun alle Zeilen aus, deren BMI-Werte unter 20 liegen und deren Name ein kleines „e“ enthält:\n",
    "\n",
    "![Same Directory Image](images/2f.png)"
   ],
   "id": "51e4f2579d364fb9"
  },
  {
   "metadata": {
    "ExecuteTime": {
     "end_time": "2025-10-22T21:25:06.758893Z",
     "start_time": "2025-10-22T21:25:06.754183Z"
    }
   },
   "cell_type": "code",
   "source": [
    "# contains_e_BMI_under_20 = df[df.index.str.contains(\"e\")]\n",
    "# contains_e_BMI_under_20 = contains_e_BMI_under_20[contains_e_BMI_under_20[\"BMI\"] < 20]\n",
    "\n",
    "contains_e_BMI_under_20 = df[(df.BMI < 20) & (df.index.str.contains(\"e\"))]\n",
    "\n",
    "print(contains_e_BMI_under_20)"
   ],
   "id": "15fde650c68e99f4",
   "outputs": [
    {
     "name": "stdout",
     "output_type": "stream",
     "text": [
      "      Gewicht  Größe        BMI\n",
      "Elke       58    172  19.605192\n",
      "Vera       43    150  19.111111\n"
     ]
    }
   ],
   "execution_count": 133
  }
 ],
 "metadata": {
  "kernelspec": {
   "display_name": "Python 3",
   "language": "python",
   "name": "python3"
  },
  "language_info": {
   "codemirror_mode": {
    "name": "ipython",
    "version": 2
   },
   "file_extension": ".py",
   "mimetype": "text/x-python",
   "name": "python",
   "nbconvert_exporter": "python",
   "pygments_lexer": "ipython2",
   "version": "2.7.6"
  }
 },
 "nbformat": 4,
 "nbformat_minor": 5
}
