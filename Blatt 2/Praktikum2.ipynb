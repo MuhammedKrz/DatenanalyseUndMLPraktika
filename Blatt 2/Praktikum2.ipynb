{
 "cells": [
  {
   "metadata": {},
   "cell_type": "markdown",
   "source": [
    "# Aufgabe 1 (1,5 Punkte - je 0,5)\n",
    "a) Erstellen Sie ein DataFrame, der wie folgt aussieht:\n",
    "\n",
    "![Same Directory Image](images\\1a.png)"
   ],
   "id": "ce7c20beae7f42c3"
  },
  {
   "metadata": {
    "ExecuteTime": {
     "end_time": "2025-10-19T15:08:52.613969Z",
     "start_time": "2025-10-19T15:08:52.608846Z"
    }
   },
   "cell_type": "code",
   "source": [
    "import matplotlib.pyplot as plt\n",
    "import numpy as np\n",
    "import pandas as pd\n",
    "\n",
    "index = pd.MultiIndex.from_product(\n",
    "    [[\"Wien\", \"Berlin\", \"Zürich\"], [\"country\", \"area\", \"population\"]]\n",
    ")\n",
    "\n",
    "values = [\n",
    "    \"Österreich\", 414.6, 1805681,\n",
    "    \"Deutschland\", 891.85, 3562166,\n",
    "    \"Schweiz\", 87.88, 378884\n",
    "]\n",
    "\n",
    "s = pd.Series(values, index=index)\n",
    "\n",
    "df = s.to_frame(name=\"\")\n",
    "\n",
    "print(df)\n"
   ],
   "id": "5e7ff3af1ccf5b0e",
   "outputs": [
    {
     "name": "stdout",
     "output_type": "stream",
     "text": [
      "                              \n",
      "Wien   country      Österreich\n",
      "       area              414.6\n",
      "       population      1805681\n",
      "Berlin country     Deutschland\n",
      "       area             891.85\n",
      "       population      3562166\n",
      "Zürich country         Schweiz\n",
      "       area              87.88\n",
      "       population       378884\n"
     ]
    }
   ],
   "execution_count": 96
  },
  {
   "metadata": {},
   "cell_type": "markdown",
   "source": [
    "b) Sortieren Sie nach dem Index und erzeugen Sie folgende Ausgabe:\n",
    "\n",
    "![Same Directory Image](images\\1b.png)"
   ],
   "id": "cc8fab0242793ab6"
  },
  {
   "metadata": {
    "ExecuteTime": {
     "end_time": "2025-10-19T15:08:54.283226Z",
     "start_time": "2025-10-19T15:08:54.278788Z"
    }
   },
   "cell_type": "code",
   "source": [
    "df = df.sort_index()\n",
    "print(df)"
   ],
   "id": "65f52aa8b3307ebc",
   "outputs": [
    {
     "name": "stdout",
     "output_type": "stream",
     "text": [
      "                              \n",
      "Berlin area             891.85\n",
      "       country     Deutschland\n",
      "       population      3562166\n",
      "Wien   area              414.6\n",
      "       country      Österreich\n",
      "       population      1805681\n",
      "Zürich area              87.88\n",
      "       country         Schweiz\n",
      "       population       378884\n"
     ]
    }
   ],
   "execution_count": 97
  },
  {
   "metadata": {},
   "cell_type": "markdown",
   "source": [
    "c) Vertauschen Sie die Indizes, sortieren Sie neu und erzeugen Sie die folgende Ausgabe:\n",
    "\n",
    "![Same Directory Image](images\\1c.png)"
   ],
   "id": "9098bd6709c62c77"
  },
  {
   "metadata": {
    "ExecuteTime": {
     "end_time": "2025-10-19T15:12:59.577259Z",
     "start_time": "2025-10-19T15:12:59.568775Z"
    }
   },
   "cell_type": "code",
   "source": [
    "index = pd.MultiIndex.from_product(\n",
    "    [[\"country\", \"area\", \"population\"],[\"Wien\", \"Berlin\", \"Zürich\"]]\n",
    ")\n",
    "\n",
    "values = [\n",
    "    \"Österreich\", \"Deutschland\", \"Schweiz\",\n",
    "    414.6, 891.85, 87.88,\n",
    "    1805681, 3562166, 378884\n",
    "]\n",
    "\n",
    "s = pd.Series(values, index=index)\n",
    "\n",
    "df = s.to_frame(name=\"\")\n",
    "\n",
    "df = df.sort_index()\n",
    "\n",
    "print(df)"
   ],
   "id": "3cd51ab02a9c8c70",
   "outputs": [
    {
     "name": "stdout",
     "output_type": "stream",
     "text": [
      "                              \n",
      "area       Berlin       891.85\n",
      "           Wien          414.6\n",
      "           Zürich        87.88\n",
      "country    Berlin  Deutschland\n",
      "           Wien     Österreich\n",
      "           Zürich      Schweiz\n",
      "population Berlin      3562166\n",
      "           Wien        1805681\n",
      "           Zürich       378884\n"
     ]
    }
   ],
   "execution_count": 105
  },
  {
   "metadata": {},
   "cell_type": "markdown",
   "source": [
    "# Aufgabe 2 (3 Punkte, je 0,5)\n",
    "\n",
    "a) Erzeugen Sie einen DataFrame mit einem Index (nicht nachträglich setzten, Index direkt erzeugen), der aus Vornamen besteht, sowie\n",
    "einer Spalte für das gewicht und einer Spalte für die Körpergröße, siehe auch die Abbildung.\n",
    "\n",
    "![Same Directory Image](images\\2a.png)"
   ],
   "id": "a5922334c8ab3ac3"
  },
  {
   "metadata": {
    "ExecuteTime": {
     "end_time": "2025-10-19T15:54:27.415351Z",
     "start_time": "2025-10-19T15:54:27.411118Z"
    }
   },
   "cell_type": "code",
   "source": [
    "df = pd.DataFrame(\n",
    "    {\n",
    "        \"Gewicht\": [65, 58, 58, 45, 43, 99, 68, 60],\n",
    "        \"Größe\": [179, 165, 172, 154, 150, 189, 176, 175]\n",
    "    },\n",
    "    index=[\"Henry\", \"Sarah\", \"Elke\", \"Lulu\", \"Vera\", \"Toni\", \"Maria\", \"Chris\"],\n",
    ")\n",
    "print(df)"
   ],
   "id": "3fc3003b62686ef0",
   "outputs": [
    {
     "name": "stdout",
     "output_type": "stream",
     "text": [
      "       Gewicht  Größe\n",
      "Henry       65    179\n",
      "Sarah       58    165\n",
      "Elke        58    172\n",
      "Lulu        45    154\n",
      "Vera        43    150\n",
      "Toni        99    189\n",
      "Maria       68    176\n",
      "Chris       60    175\n"
     ]
    }
   ],
   "execution_count": 149
  },
  {
   "metadata": {},
   "cell_type": "markdown",
   "source": [
    "b) Extrahieren Sie alle Zeilen, deren BMI im normalen Bereich liegt, d.h. zwischen 18.5. und 25. Es gilt: BMI= Gewicht in kg/(Größe in m)2.\n",
    "Siehe auch die Abbildung:\n",
    "\n",
    "![Same Directory Image](images\\2b.png)"
   ],
   "id": "847b2aefe1d8668b"
  },
  {
   "metadata": {
    "ExecuteTime": {
     "end_time": "2025-10-19T18:20:47.432683Z",
     "start_time": "2025-10-19T18:20:47.428109Z"
    }
   },
   "cell_type": "code",
   "source": [
    "def calc_bmi() -> float:\n",
    "    return df[\"Gewicht\"] / (df[\"Größe\"] / 100)**2\n",
    "\n",
    "normalBMI = df[(calc_bmi() > 18.5) &\n",
    "               (calc_bmi() < 25.0)]\n",
    "print(normalBMI)"
   ],
   "id": "e12fb3f883ed2815",
   "outputs": [
    {
     "name": "stdout",
     "output_type": "stream",
     "text": [
      "       Gewicht  Größe\n",
      "Henry       65    179\n",
      "Sarah       58    165\n",
      "Elke        58    172\n",
      "Lulu        45    154\n",
      "Vera        43    150\n",
      "Maria       68    176\n",
      "Chris       60    175\n"
     ]
    }
   ],
   "execution_count": 180
  },
  {
   "metadata": {},
   "cell_type": "markdown",
   "source": [
    "c) Geben Sie alle Zeilen aus, in deren Namen ein kleines „e“ vorkommt, siehe auch die Abbildung.\n",
    "\n",
    "![Same Directory Image](images\\2c.png)"
   ],
   "id": "f799c77981a6b11b"
  },
  {
   "metadata": {
    "ExecuteTime": {
     "end_time": "2025-10-19T19:54:00.965444Z",
     "start_time": "2025-10-19T19:54:00.961086Z"
    }
   },
   "cell_type": "code",
   "source": [
    "namesWithE = df[df.index.get_level_values(0).str.contains(\"e\")]\n",
    "print(namesWithE)"
   ],
   "id": "733e2ad85c1d6086",
   "outputs": [
    {
     "name": "stdout",
     "output_type": "stream",
     "text": [
      "       Gewicht  Größe        BMI\n",
      "Henry       65    179  20.286508\n",
      "Elke        58    172  19.605192\n",
      "Vera        43    150  19.111111\n"
     ]
    }
   ],
   "execution_count": 215
  },
  {
   "metadata": {},
   "cell_type": "markdown",
   "source": [
    "d) Fügen Sie eine Spalte mit dem BMI an.\n",
    "\n",
    "![Same Directory Image](images\\2d.png)"
   ],
   "id": "ceed4919a7ae8c2d"
  },
  {
   "metadata": {
    "ExecuteTime": {
     "end_time": "2025-10-19T19:51:48.059337Z",
     "start_time": "2025-10-19T19:51:48.054808Z"
    }
   },
   "cell_type": "code",
   "source": [
    "df['BMI'] = calc_bmi()\n",
    "print(df)"
   ],
   "id": "80c2b19755d66a82",
   "outputs": [
    {
     "name": "stdout",
     "output_type": "stream",
     "text": [
      "       Gewicht  Größe        BMI\n",
      "Henry       65    179  20.286508\n",
      "Sarah       58    165  21.303949\n",
      "Elke        58    172  19.605192\n",
      "Lulu        45    154  18.974532\n",
      "Vera        43    150  19.111111\n",
      "Toni        99    189  27.714790\n",
      "Maria       68    176  21.952479\n",
      "Chris       60    175  19.591837\n"
     ]
    }
   ],
   "execution_count": 209
  },
  {
   "metadata": {},
   "cell_type": "markdown",
   "source": [
    "e) Sortieren Sie nach dem BMI\n",
    "\n",
    "![Same Directory Image](images\\2e.png)"
   ],
   "id": "481bcc48cafd5270"
  },
  {
   "metadata": {
    "ExecuteTime": {
     "end_time": "2025-10-19T19:52:54.548142Z",
     "start_time": "2025-10-19T19:52:54.543803Z"
    }
   },
   "cell_type": "code",
   "source": [
    "df = df.sort_values(\"BMI\", ascending=False)\n",
    "print(df)"
   ],
   "id": "6282cec026b7a1aa",
   "outputs": [
    {
     "name": "stdout",
     "output_type": "stream",
     "text": [
      "       Gewicht  Größe        BMI\n",
      "Toni        99    189  27.714790\n",
      "Maria       68    176  21.952479\n",
      "Sarah       58    165  21.303949\n",
      "Henry       65    179  20.286508\n",
      "Elke        58    172  19.605192\n",
      "Chris       60    175  19.591837\n",
      "Vera        43    150  19.111111\n",
      "Lulu        45    154  18.974532\n"
     ]
    }
   ],
   "execution_count": 213
  },
  {
   "metadata": {},
   "cell_type": "markdown",
   "source": [
    "f) Geben Sie nun alle Zeilen aus, deren BMI-Werte unter 20 liegen und deren Name ein kleines „e“ enthält:\n",
    "\n",
    "![Same Directory Image](images\\2f.png)"
   ],
   "id": "7063a4b4796d0b25"
  },
  {
   "metadata": {},
   "cell_type": "code",
   "outputs": [],
   "execution_count": null,
   "source": "",
   "id": "65e9aaadb8c6de39"
  }
 ],
 "metadata": {
  "kernelspec": {
   "display_name": "Python 3",
   "language": "python",
   "name": "python3"
  },
  "language_info": {
   "codemirror_mode": {
    "name": "ipython",
    "version": 2
   },
   "file_extension": ".py",
   "mimetype": "text/x-python",
   "name": "python",
   "nbconvert_exporter": "python",
   "pygments_lexer": "ipython2",
   "version": "2.7.6"
  }
 },
 "nbformat": 4,
 "nbformat_minor": 5
}
