{
 "cells": [
  {
   "metadata": {},
   "cell_type": "markdown",
   "source": [
    "# Aufgabe 1 (1,5 Punkte - je 0,5)\n",
    "a) Erstellen Sie ein DataFrame, der wie folgt aussieht:\n",
    "\n",
    "![Same Directory Image](images\\1a.png)"
   ],
   "id": "ce7c20beae7f42c3"
  },
  {
   "metadata": {
    "ExecuteTime": {
     "end_time": "2025-10-22T20:05:56.227289Z",
     "start_time": "2025-10-22T20:05:56.220169Z"
    }
   },
   "cell_type": "code",
   "source": [
    "import pandas as pd\n",
    "from nltk.sem.chat80 import contains\n",
    "\n",
    "tuples = [\n",
    "    ('Wien','country'),\n",
    "    ('Wien','area'),\n",
    "    ('Wien','population'),\n",
    "    ('Berlin','country'),\n",
    "    ('Berlin','area'),\n",
    "    ('Berlin','population'),\n",
    "    ('Zürich','country'),\n",
    "    ('Zürich','area'),\n",
    "    ('Zürich','population'),\n",
    "]\n",
    "index = pd.MultiIndex.from_tuples(tuples)\n",
    "df = pd.DataFrame({'': [\"Österreich\", 414.6, 1805681, \"Deutschland\", 891.85, 3562166, \"Schweiz\", 87.88, 378884]}, index=index)\n",
    "print(df)\n"
   ],
   "id": "5e7ff3af1ccf5b0e",
   "outputs": [
    {
     "name": "stdout",
     "output_type": "stream",
     "text": [
      "                              \n",
      "Wien   country      Österreich\n",
      "       area              414.6\n",
      "       population      1805681\n",
      "Berlin country     Deutschland\n",
      "       area             891.85\n",
      "       population      3562166\n",
      "Zürich country         Schweiz\n",
      "       area              87.88\n",
      "       population       378884\n"
     ]
    }
   ],
   "execution_count": 422
  },
  {
   "metadata": {},
   "cell_type": "markdown",
   "source": [
    "b) Sortieren Sie nach dem Index und erzeugen Sie folgende Ausgabe:\n",
    "\n",
    "![Same Directory Image](images\\1b.png)"
   ],
   "id": "cc8fab0242793ab6"
  },
  {
   "metadata": {
    "ExecuteTime": {
     "end_time": "2025-10-22T20:05:56.245171Z",
     "start_time": "2025-10-22T20:05:56.239549Z"
    }
   },
   "cell_type": "code",
   "source": [
    "df.sort_index(inplace=True)\n",
    "print(df)"
   ],
   "id": "65f52aa8b3307ebc",
   "outputs": [
    {
     "name": "stdout",
     "output_type": "stream",
     "text": [
      "                              \n",
      "Berlin area             891.85\n",
      "       country     Deutschland\n",
      "       population      3562166\n",
      "Wien   area              414.6\n",
      "       country      Österreich\n",
      "       population      1805681\n",
      "Zürich area              87.88\n",
      "       country         Schweiz\n",
      "       population       378884\n"
     ]
    }
   ],
   "execution_count": 423
  },
  {
   "metadata": {},
   "cell_type": "markdown",
   "source": [
    "c) Vertauschen Sie die Indizes, sortieren Sie neu und erzeugen Sie die folgende Ausgabe:\n",
    "\n",
    "![Same Directory Image](images\\1c.png)"
   ],
   "id": "9098bd6709c62c77"
  },
  {
   "metadata": {
    "ExecuteTime": {
     "end_time": "2025-10-22T20:05:56.262383Z",
     "start_time": "2025-10-22T20:05:56.256910Z"
    }
   },
   "cell_type": "code",
   "source": [
    "# Swap first column and second\n",
    "# Change first level 0 with last level -1\n",
    "df = df.swaplevel(0, -1)\n",
    "df.sort_index(inplace=True)\n",
    "print(df)"
   ],
   "id": "3cd51ab02a9c8c70",
   "outputs": [
    {
     "name": "stdout",
     "output_type": "stream",
     "text": [
      "                              \n",
      "area       Berlin       891.85\n",
      "           Wien          414.6\n",
      "           Zürich        87.88\n",
      "country    Berlin  Deutschland\n",
      "           Wien     Österreich\n",
      "           Zürich      Schweiz\n",
      "population Berlin      3562166\n",
      "           Wien        1805681\n",
      "           Zürich       378884\n"
     ]
    }
   ],
   "execution_count": 424
  },
  {
   "metadata": {},
   "cell_type": "markdown",
   "source": [
    "# Aufgabe 2 (3 Punkte, je 0,5)\n",
    "\n",
    "a) Erzeugen Sie einen DataFrame mit einem Index (nicht nachträglich setzten, Index direkt erzeugen), der aus Vornamen besteht, sowie\n",
    "einer Spalte für das gewicht und einer Spalte für die Körpergröße, siehe auch die Abbildung.\n",
    "\n",
    "![Same Directory Image](images\\2a.png)"
   ],
   "id": "a5922334c8ab3ac3"
  },
  {
   "metadata": {
    "ExecuteTime": {
     "end_time": "2025-10-22T20:05:56.279724Z",
     "start_time": "2025-10-22T20:05:56.273476Z"
    }
   },
   "cell_type": "code",
   "source": [
    "randoms = {\n",
    "        \"Gewicht\": {\"Henry\":65,\n",
    "                 \"Sarah\":58,\n",
    "                 \"Elke\":58,\n",
    "                 \"Lulu\":45,\n",
    "                 \"Vera\":43,\n",
    "                 \"Toni\":99,\n",
    "                 \"Maria\":68,\n",
    "                 \"Chris\":60},\n",
    "        \"Größe\": {\"Henry\":179,\n",
    "                 \"Sarah\":165,\n",
    "                 \"Elke\":172,\n",
    "                 \"Lulu\":154,\n",
    "                 \"Vera\":150,\n",
    "                 \"Toni\":189,\n",
    "                 \"Maria\":176,\n",
    "                 \"Chris\":175},\n",
    "}\n",
    "df3 = pd.DataFrame(randoms)\n",
    "print(df3)"
   ],
   "id": "3fc3003b62686ef0",
   "outputs": [
    {
     "name": "stdout",
     "output_type": "stream",
     "text": [
      "       Gewicht  Größe\n",
      "Henry       65    179\n",
      "Sarah       58    165\n",
      "Elke        58    172\n",
      "Lulu        45    154\n",
      "Vera        43    150\n",
      "Toni        99    189\n",
      "Maria       68    176\n",
      "Chris       60    175\n"
     ]
    }
   ],
   "execution_count": 425
  },
  {
   "metadata": {},
   "cell_type": "markdown",
   "source": [
    "b) Extrahieren Sie alle Zeilen, deren BMI im normalen Bereich liegt, d.h. zwischen 18.5. und 25. Es gilt: BMI= Gewicht in kg/(Größe in m)2.\n",
    "Siehe auch die Abbildung:\n",
    "\n",
    "![Same Directory Image](images\\2b.png)"
   ],
   "id": "847b2aefe1d8668b"
  },
  {
   "metadata": {
    "ExecuteTime": {
     "end_time": "2025-10-22T20:05:56.312392Z",
     "start_time": "2025-10-22T20:05:56.304449Z"
    }
   },
   "cell_type": "code",
   "source": "print(df3.query(\"(Gewicht / (Größe*0.01)**2) >= 18.5 & (Gewicht / (Größe*0.01)**2) <= 25\"))",
   "id": "e12fb3f883ed2815",
   "outputs": [
    {
     "name": "stdout",
     "output_type": "stream",
     "text": [
      "       Gewicht  Größe\n",
      "Henry       65    179\n",
      "Sarah       58    165\n",
      "Elke        58    172\n",
      "Lulu        45    154\n",
      "Vera        43    150\n",
      "Maria       68    176\n",
      "Chris       60    175\n"
     ]
    }
   ],
   "execution_count": 426
  },
  {
   "metadata": {},
   "cell_type": "markdown",
   "source": [
    "c) Geben Sie alle Zeilen aus, in deren Namen ein kleines „e“ vorkommt, siehe auch die Abbildung.\n",
    "\n",
    "![Same Directory Image](images\\2c.png)"
   ],
   "id": "f799c77981a6b11b"
  },
  {
   "metadata": {
    "ExecuteTime": {
     "end_time": "2025-10-22T20:05:56.325867Z",
     "start_time": "2025-10-22T20:05:56.320729Z"
    }
   },
   "cell_type": "code",
   "source": "print(df3.filter(like='e', axis=0))",
   "id": "733e2ad85c1d6086",
   "outputs": [
    {
     "name": "stdout",
     "output_type": "stream",
     "text": [
      "       Gewicht  Größe\n",
      "Henry       65    179\n",
      "Elke        58    172\n",
      "Vera        43    150\n"
     ]
    }
   ],
   "execution_count": 427
  },
  {
   "metadata": {},
   "cell_type": "markdown",
   "source": [
    "d) Fügen Sie eine Spalte mit dem BMI an.\n",
    "\n",
    "![Same Directory Image](images\\2d.png)"
   ],
   "id": "ceed4919a7ae8c2d"
  },
  {
   "metadata": {
    "ExecuteTime": {
     "end_time": "2025-10-22T20:05:56.346245Z",
     "start_time": "2025-10-22T20:05:56.340587Z"
    }
   },
   "cell_type": "code",
   "source": [
    "bmi = [20.286508,21.303949,19.605192,18.974532,19.111111,27.714790,21.952479,19.591837]\n",
    "df3['BMI'] = bmi\n",
    "print(df3)"
   ],
   "id": "80c2b19755d66a82",
   "outputs": [
    {
     "name": "stdout",
     "output_type": "stream",
     "text": [
      "       Gewicht  Größe        BMI\n",
      "Henry       65    179  20.286508\n",
      "Sarah       58    165  21.303949\n",
      "Elke        58    172  19.605192\n",
      "Lulu        45    154  18.974532\n",
      "Vera        43    150  19.111111\n",
      "Toni        99    189  27.714790\n",
      "Maria       68    176  21.952479\n",
      "Chris       60    175  19.591837\n"
     ]
    }
   ],
   "execution_count": 428
  },
  {
   "metadata": {},
   "cell_type": "markdown",
   "source": [
    "e) Sortieren Sie nach dem BMI\n",
    "\n",
    "![Same Directory Image](images\\2e.png)"
   ],
   "id": "481bcc48cafd5270"
  },
  {
   "metadata": {
    "ExecuteTime": {
     "end_time": "2025-10-22T20:05:56.365941Z",
     "start_time": "2025-10-22T20:05:56.360103Z"
    }
   },
   "cell_type": "code",
   "source": [
    "df3.sort_values(\"BMI\", ascending=False, inplace=True)\n",
    "print(df3)"
   ],
   "id": "6282cec026b7a1aa",
   "outputs": [
    {
     "name": "stdout",
     "output_type": "stream",
     "text": [
      "       Gewicht  Größe        BMI\n",
      "Toni        99    189  27.714790\n",
      "Maria       68    176  21.952479\n",
      "Sarah       58    165  21.303949\n",
      "Henry       65    179  20.286508\n",
      "Elke        58    172  19.605192\n",
      "Chris       60    175  19.591837\n",
      "Vera        43    150  19.111111\n",
      "Lulu        45    154  18.974532\n"
     ]
    }
   ],
   "execution_count": 429
  },
  {
   "metadata": {},
   "cell_type": "markdown",
   "source": [
    "f) Geben Sie nun alle Zeilen aus, deren BMI-Werte unter 20 liegen und deren Name ein kleines „e“ enthält:\n",
    "\n",
    "![Same Directory Image](images\\2f.png)"
   ],
   "id": "7063a4b4796d0b25"
  },
  {
   "metadata": {
    "ExecuteTime": {
     "end_time": "2025-10-22T20:05:56.382058Z",
     "start_time": "2025-10-22T20:05:56.376407Z"
    }
   },
   "cell_type": "code",
   "source": "print(df3[df3['BMI'] <= 20].filter(like='e', axis=0))\n",
   "id": "65e9aaadb8c6de39",
   "outputs": [
    {
     "name": "stdout",
     "output_type": "stream",
     "text": [
      "      Gewicht  Größe        BMI\n",
      "Elke       58    172  19.605192\n",
      "Vera       43    150  19.111111\n"
     ]
    }
   ],
   "execution_count": 430
  }
 ],
 "metadata": {
  "kernelspec": {
   "display_name": "Python [conda env:base] *",
   "language": "python",
   "name": "conda-base-py"
  },
  "language_info": {
   "codemirror_mode": {
    "name": "ipython",
    "version": 2
   },
   "file_extension": ".py",
   "mimetype": "text/x-python",
   "name": "python",
   "nbconvert_exporter": "python",
   "pygments_lexer": "ipython2",
   "version": "2.7.6"
  }
 },
 "nbformat": 4,
 "nbformat_minor": 5
}
